{
 "cells": [
  {
   "cell_type": "markdown",
   "metadata": {},
   "source": [
    "ダウンロードしてきた背景画像の編集を行う。\n",
    "Edit the background image you have downloaded.\n",
    "\n",
    "ダウンロードしてきた画像の名前を連番にし、500x180のサイズで切り取る。また、この切り取りにはimg.pyのsmart_crop_image関数を使用する。\n",
    "The downloaded images are numbered consecutively and cropped to a size of 500x180. Also, use the smart_crop_image function in img.py for this cropping."
   ]
  },
  {
   "cell_type": "code",
   "execution_count": 1,
   "metadata": {
    "vscode": {
     "languageId": "powershell"
    }
   },
   "outputs": [
    {
     "name": "stdout",
     "output_type": "stream",
     "text": [
      "Requirement already satisfied: fastapi in c:\\users\\shuns\\appdata\\local\\programs\\python\\python311\\lib\\site-packages (from -r requirements.txt (line 1)) (0.115.6)\n",
      "Requirement already satisfied: uvicorn in c:\\users\\shuns\\appdata\\local\\programs\\python\\python311\\lib\\site-packages (from -r requirements.txt (line 2)) (0.34.0)\n",
      "Requirement already satisfied: pillow in c:\\users\\shuns\\appdata\\local\\programs\\python\\python311\\lib\\site-packages (from -r requirements.txt (line 3)) (10.1.0)\n",
      "Collecting python-multipart (from -r requirements.txt (line 4))\n",
      "  Downloading python_multipart-0.0.20-py3-none-any.whl.metadata (1.8 kB)\n",
      "Requirement already satisfied: aiohttp in c:\\users\\shuns\\appdata\\local\\programs\\python\\python311\\lib\\site-packages (from -r requirements.txt (line 5)) (3.11.11)\n",
      "Requirement already satisfied: starlette<0.42.0,>=0.40.0 in c:\\users\\shuns\\appdata\\local\\programs\\python\\python311\\lib\\site-packages (from fastapi->-r requirements.txt (line 1)) (0.41.3)\n",
      "Requirement already satisfied: pydantic!=1.8,!=1.8.1,!=2.0.0,!=2.0.1,!=2.1.0,<3.0.0,>=1.7.4 in c:\\users\\shuns\\appdata\\local\\programs\\python\\python311\\lib\\site-packages (from fastapi->-r requirements.txt (line 1)) (2.10.4)\n",
      "Requirement already satisfied: typing-extensions>=4.8.0 in c:\\users\\shuns\\appdata\\local\\programs\\python\\python311\\lib\\site-packages (from fastapi->-r requirements.txt (line 1)) (4.12.2)\n",
      "Requirement already satisfied: click>=7.0 in c:\\users\\shuns\\appdata\\local\\programs\\python\\python311\\lib\\site-packages (from uvicorn->-r requirements.txt (line 2)) (8.1.7)\n",
      "Requirement already satisfied: h11>=0.8 in c:\\users\\shuns\\appdata\\local\\programs\\python\\python311\\lib\\site-packages (from uvicorn->-r requirements.txt (line 2)) (0.14.0)\n",
      "Requirement already satisfied: aiohappyeyeballs>=2.3.0 in c:\\users\\shuns\\appdata\\local\\programs\\python\\python311\\lib\\site-packages (from aiohttp->-r requirements.txt (line 5)) (2.4.4)\n",
      "Requirement already satisfied: aiosignal>=1.1.2 in c:\\users\\shuns\\appdata\\local\\programs\\python\\python311\\lib\\site-packages (from aiohttp->-r requirements.txt (line 5)) (1.3.1)\n",
      "Requirement already satisfied: attrs>=17.3.0 in c:\\users\\shuns\\appdata\\local\\programs\\python\\python311\\lib\\site-packages (from aiohttp->-r requirements.txt (line 5)) (23.2.0)\n",
      "Requirement already satisfied: frozenlist>=1.1.1 in c:\\users\\shuns\\appdata\\local\\programs\\python\\python311\\lib\\site-packages (from aiohttp->-r requirements.txt (line 5)) (1.4.0)\n",
      "Requirement already satisfied: multidict<7.0,>=4.5 in c:\\users\\shuns\\appdata\\local\\programs\\python\\python311\\lib\\site-packages (from aiohttp->-r requirements.txt (line 5)) (6.0.4)\n",
      "Requirement already satisfied: propcache>=0.2.0 in c:\\users\\shuns\\appdata\\local\\programs\\python\\python311\\lib\\site-packages (from aiohttp->-r requirements.txt (line 5)) (0.2.1)\n",
      "Requirement already satisfied: yarl<2.0,>=1.17.0 in c:\\users\\shuns\\appdata\\local\\programs\\python\\python311\\lib\\site-packages (from aiohttp->-r requirements.txt (line 5)) (1.18.3)\n",
      "Requirement already satisfied: colorama in c:\\users\\shuns\\appdata\\local\\programs\\python\\python311\\lib\\site-packages (from click>=7.0->uvicorn->-r requirements.txt (line 2)) (0.4.6)\n",
      "Requirement already satisfied: annotated-types>=0.6.0 in c:\\users\\shuns\\appdata\\local\\programs\\python\\python311\\lib\\site-packages (from pydantic!=1.8,!=1.8.1,!=2.0.0,!=2.0.1,!=2.1.0,<3.0.0,>=1.7.4->fastapi->-r requirements.txt (line 1)) (0.6.0)\n",
      "Requirement already satisfied: pydantic-core==2.27.2 in c:\\users\\shuns\\appdata\\local\\programs\\python\\python311\\lib\\site-packages (from pydantic!=1.8,!=1.8.1,!=2.0.0,!=2.0.1,!=2.1.0,<3.0.0,>=1.7.4->fastapi->-r requirements.txt (line 1)) (2.27.2)\n",
      "Requirement already satisfied: anyio<5,>=3.4.0 in c:\\users\\shuns\\appdata\\local\\programs\\python\\python311\\lib\\site-packages (from starlette<0.42.0,>=0.40.0->fastapi->-r requirements.txt (line 1)) (4.4.0)\n",
      "Requirement already satisfied: idna>=2.0 in c:\\users\\shuns\\appdata\\local\\programs\\python\\python311\\lib\\site-packages (from yarl<2.0,>=1.17.0->aiohttp->-r requirements.txt (line 5)) (3.4)\n",
      "Requirement already satisfied: sniffio>=1.1 in c:\\users\\shuns\\appdata\\local\\programs\\python\\python311\\lib\\site-packages (from anyio<5,>=3.4.0->starlette<0.42.0,>=0.40.0->fastapi->-r requirements.txt (line 1)) (1.3.1)\n",
      "Downloading python_multipart-0.0.20-py3-none-any.whl (24 kB)\n",
      "Installing collected packages: python-multipart\n",
      "Successfully installed python-multipart-0.0.20\n",
      "Note: you may need to restart the kernel to use updated packages.\n"
     ]
    },
    {
     "name": "stderr",
     "output_type": "stream",
     "text": [
      "\n",
      "[notice] A new release of pip is available: 24.3.1 -> 25.0.1\n",
      "[notice] To update, run: python.exe -m pip install --upgrade pip\n"
     ]
    }
   ],
   "source": [
    "pip install -r requirements.txt"
   ]
  },
  {
   "cell_type": "code",
   "execution_count": null,
   "metadata": {},
   "outputs": [],
   "source": [
    "from PIL import Image\n",
    "import os\n",
    "import sys\n",
    "sys.path.append(os.path.dirname(os.path.dirname(os.path.abspath(__file__))))\n",
    "from api import img\n",
    "\n",
    "def convert_and_rename_images(folder_path: str = \"assets/img/gi\"):\n",
    "    \"\"\"\n",
    "    指定フォルダ内の画像を500x180にリサイズし、PNGに変換して連番でリネーム\n",
    "    \n",
    "    Args:\n",
    "        folder_path (str): 画像が格納されているフォルダのパス\n",
    "    \"\"\"\n",
    "    try:\n",
    "        # フォルダ内のファイル一覧を取得\n",
    "        files = os.listdir(folder_path)\n",
    "        # 画像ファイルのみをフィルタリング\n",
    "        image_files = [f for f in files if f.lower().endswith(('.png', '.jpg', '.jpeg', '.webp'))]\n",
    "        \n",
    "        print(f\"Found {len(image_files)} image files\")\n",
    "        \n",
    "        # 連番で保存\n",
    "        for i, filename in enumerate(image_files, 1):\n",
    "            try:\n",
    "                # 画像を開く\n",
    "                image_path = os.path.join(folder_path, filename)\n",
    "                with Image.open(image_path) as original_img:\n",
    "                    # スマートクロップを適用\n",
    "                    processed_img = img.smart_crop_image(original_img, 500, 180)\n",
    "                    \n",
    "                    # 新しいファイル名\n",
    "                    new_filename = f\"{i}.png\"\n",
    "                    new_path = os.path.join(folder_path, new_filename)\n",
    "                    \n",
    "                    # PNG形式で保存\n",
    "                    processed_img.save(new_path, \"PNG\")\n",
    "                    print(f\"Processed and renamed: {filename} -> {new_filename}\")\n",
    "                    \n",
    "                    # 元のファイルが新しいファイル名と異なる場合は削除\n",
    "                    if filename != new_filename:\n",
    "                        os.remove(image_path)\n",
    "                        \n",
    "            except Exception as e:\n",
    "                print(f\"Error processing {filename}: {e}\")\n",
    "                \n",
    "        print(\"Processing completed successfully\")\n",
    "        \n",
    "    except Exception as e:\n",
    "        print(f\"Error: {e}\")\n",
    "\n",
    "if __name__ == \"__main__\":\n",
    "    convert_and_rename_images()"
   ]
  }
 ],
 "metadata": {
  "kernelspec": {
   "display_name": "Python 3",
   "language": "python",
   "name": "python3"
  },
  "language_info": {
   "codemirror_mode": {
    "name": "ipython",
    "version": 3
   },
   "file_extension": ".py",
   "mimetype": "text/x-python",
   "name": "python",
   "nbconvert_exporter": "python",
   "pygments_lexer": "ipython3",
   "version": "3.11.4"
  }
 },
 "nbformat": 4,
 "nbformat_minor": 2
}
